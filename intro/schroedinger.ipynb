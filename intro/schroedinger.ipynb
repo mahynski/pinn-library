{
  "nbformat": 4,
  "nbformat_minor": 0,
  "metadata": {
    "colab": {
      "private_outputs": true,
      "provenance": [],
      "authorship_tag": "ABX9TyNsLn1fLZRtgwwV6b4rUnz4",
      "include_colab_link": true
    },
    "kernelspec": {
      "name": "python3",
      "display_name": "Python 3"
    },
    "language_info": {
      "name": "python"
    }
  },
  "cells": [
    {
      "cell_type": "markdown",
      "metadata": {
        "id": "view-in-github",
        "colab_type": "text"
      },
      "source": [
        "<a href=\"https://colab.research.google.com/github/mahynski/pinn-library/blob/main/intro/schroedinger.ipynb\" target=\"_parent\"><img src=\"https://colab.research.google.com/assets/colab-badge.svg\" alt=\"Open In Colab\"/></a>"
      ]
    },
    {
      "cell_type": "markdown",
      "source": [
        "PINN Example: Schroedinger Equation\n",
        "===\n",
        "\n",
        "This example is taken from Maziar Raissi's example [here](https://github.com/maziarraissi/PINNs/blob/master/main/continuous_time_inference%20(Schrodinger)/Schrodinger.py) which accompanies his original [work](https://www.sciencedirect.com/science/article/pii/S0021999118307125)."
      ],
      "metadata": {
        "id": "aanODvQXiKXr"
      }
    },
    {
      "cell_type": "code",
      "source": [],
      "metadata": {
        "id": "bYvCBAKniH3s"
      },
      "execution_count": null,
      "outputs": []
    }
  ]
}